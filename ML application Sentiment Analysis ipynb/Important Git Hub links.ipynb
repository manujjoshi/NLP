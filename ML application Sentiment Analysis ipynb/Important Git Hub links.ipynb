{
 "cells": [
  {
   "cell_type": "markdown",
   "id": "06426b19",
   "metadata": {},
   "source": [
    "# `Important Git Hub links`"
   ]
  },
  {
   "cell_type": "markdown",
   "id": "e6d69779",
   "metadata": {},
   "source": [
    "### - [Kanav Sir Machine_Learning_and_Deep_Learning](https://github.com/bansalkanav/Machine_Learning_and_Deep_Learning)\n",
    "### - [Kanav Sir ML Notes](https://github.com/bansalkanav/ML_notes)\n",
    "### - [365-Days-Computer-Vision-Learning-Linkedin-Post](https://github.com/ashishpatel26/365-Days-Computer-Vision-Learning-Linkedin-Post)\n",
    "### - [500-AI-Machine-learning-Deep-learning-Computer-vision-NLP-Projects-with-code](https://github.com/ashishpatel26/500-AI-Machine-learning-Deep-learning-Computer-vision-NLP-Projects-with-code)\n",
    "### - [Machine-learning-AI-Templates](https://github.com/devVipin01/Machine-learning-AI-Templates)\n"
   ]
  },
  {
   "cell_type": "code",
   "execution_count": null,
   "id": "544014d2",
   "metadata": {},
   "outputs": [],
   "source": []
  }
 ],
 "metadata": {
  "kernelspec": {
   "display_name": "Python 3",
   "language": "python",
   "name": "python3"
  },
  "language_info": {
   "codemirror_mode": {
    "name": "ipython",
    "version": 3
   },
   "file_extension": ".py",
   "mimetype": "text/x-python",
   "name": "python",
   "nbconvert_exporter": "python",
   "pygments_lexer": "ipython3",
   "version": "3.8.8"
  }
 },
 "nbformat": 4,
 "nbformat_minor": 5
}
