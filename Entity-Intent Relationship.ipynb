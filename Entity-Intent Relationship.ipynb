{
 "cells": [
  {
   "cell_type": "markdown",
   "metadata": {},
   "source": [
    "## `Can we do something based upon some frequency??`\n",
    "### Entity and Intent relationship (important interview question)*****\n",
    "- **Intent**: Greetings\n",
    "- **Entity**: Good Morning, Good Night, Good Afternoon\n",
    "- **Intent**: Cars\n",
    "- **Entity**: BMW:expensive Audi:expensive TaTa:cheap Honda:cheap Kia:semi-expensive\n",
    "- **Intent**: **Intent tells what topic we are talking about**\n",
    "- **Entity**: **What exact topic we are much interested**"
   ]
  },
  {
   "cell_type": "markdown",
   "metadata": {},
   "source": [
    "### `END ----------------------------`"
   ]
  }
 ],
 "metadata": {
  "kernelspec": {
   "display_name": "Python 3",
   "language": "python",
   "name": "python3"
  },
  "language_info": {
   "codemirror_mode": {
    "name": "ipython",
    "version": 3
   },
   "file_extension": ".py",
   "mimetype": "text/x-python",
   "name": "python",
   "nbconvert_exporter": "python",
   "pygments_lexer": "ipython3",
   "version": "3.8.3"
  }
 },
 "nbformat": 4,
 "nbformat_minor": 5
}
