{
 "cells": [
  {
   "cell_type": "markdown",
   "id": "6998374f",
   "metadata": {},
   "source": [
    "## `Can we do something based upon some frequency??`\n",
    "### Entity and Intent relationship (important interview question)*****\n",
    "- **Intent**: Greetings\n",
    "- **Entity**: Good Morning, Good Night, Good Afternoon\n",
    "- **Intent**: Cars\n",
    "- **Entity**: BMW:expensive Audi:expensive TaTa:cheap Honda:cheap Kia:semi-expensive\n",
    "- **Intent**: **Intent tells what topic we are talking about**\n",
    "- **Entity**: **What exact topic we are much interested**"
   ]
  },
  {
   "cell_type": "markdown",
   "id": "1901d6fe",
   "metadata": {},
   "source": [
    "### `END ----------------------------`"
   ]
  }
 ],
 "metadata": {
  "kernelspec": {
   "display_name": "Python 3",
   "language": "python",
   "name": "python3"
  },
  "language_info": {
   "codemirror_mode": {
    "name": "ipython",
    "version": 3
   },
   "file_extension": ".py",
   "mimetype": "text/x-python",
   "name": "python",
   "nbconvert_exporter": "python",
   "pygments_lexer": "ipython3",
   "version": "3.8.8"
  }
 },
 "nbformat": 4,
 "nbformat_minor": 5
}
